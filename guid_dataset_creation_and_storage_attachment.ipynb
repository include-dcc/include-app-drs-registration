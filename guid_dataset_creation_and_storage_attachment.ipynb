{
 "cells": [
  {
   "cell_type": "code",
   "execution_count": null,
   "metadata": {},
   "outputs": [],
   "source": [
    "import logging\n",
    "import os\n",
    "import sys\n",
    "import argparse\n",
    "import time\n",
    "import pprint as pprint \n",
    "\n",
    "import pandas as pd\n",
    "# from requests import RequestException\n",
    "import requests\n",
    "\n",
    "from d3b_utils.requests_retry import Session"
   ]
  },
  {
   "cell_type": "markdown",
   "metadata": {},
   "source": [
    "### DRS REGISTRATION KEYS\n",
    "* `X_SBG_Auth_Token` = A token obtained from the CAVATICA app for developers. This toke is needed for interatcting with the CAVATICA API \n",
    "* `AWS_ACCESS_KEY_ID` = The AWS access key ID obtained from CHOP DevOps for the bucket where the files are located\n",
    "* `AWS_SECRET_ACCESS_KEY` = The AWS secret key obtained from CHOP DevOPs for the bucket where the files are located"
   ]
  },
  {
   "cell_type": "code",
   "execution_count": 1,
   "metadata": {},
   "outputs": [],
   "source": [
    "### include cavatica token\n",
    "# X_SBG_Auth_Token = <cavatica token>\n",
    "\n",
    "# version\n",
    "API_VERSION = \"v2\"\n",
    "\n",
    "BASE_URL = \"https://cavatica-api.sbgenomics.com/v2/drs-internal\""
   ]
  },
  {
   "cell_type": "code",
   "execution_count": null,
   "metadata": {},
   "outputs": [],
   "source": [
    "# create json for guid dataset\n",
    "guid_dataset = { \n",
    "    \"name\": \"nih-nhlbi-include-sd-bcwwtbtin8-controlled\",\n",
    "    \"version\": \"0.1.0\",\n",
    "    \"access\": {\n",
    "        \"privacy\": \"PRIVATE\",\n",
    "        \"privateType\": \"CONTROLLED\",\n",
    "        \"authorizationEntity\": \"RAS\",\n",
    "        \"accessParams\" : { \n",
    "            \"phsId\" : \"phs003678\", \n",
    "            \"consentGroup\" : \"c1\"\n",
    "        }\n",
    "  }\n",
    "}"
   ]
  },
  {
   "cell_type": "code",
   "execution_count": null,
   "metadata": {},
   "outputs": [],
   "source": [
    "# post guid dataset\n",
    "guid_dataset_resp = Session().post(\n",
    "    \"https://cavatica-api.sbgenomics.com/v2/drs-internal/datasets\",\n",
    "    headers={\n",
    "        \"X-SBG-Auth-Token\": X_SBG_Auth_Token,\n",
    "        \"X-SBG-Advance-Access\": \"advance\",\n",
    "        \"Content-Type\": \"application/json\",\n",
    "    },\n",
    "    json=guid_dataset,\n",
    ")\n",
    "\n",
    "pprint.pprint(guid_dataset_resp.content)\n",
    "\n",
    "# (b'{\"id\":\"a35972a5-25a7-4c52-9e14-09e1ca110928\",\"createdBy\":\"include-data-hub\",'\n",
    "#  b'\"dateCreated\":\"2024-10-04 18:53:20+0000\",\"dateModified\":\"2024-10-04 18:53:20'\n",
    "#  b'+0000\",\"name\":\"nih-nhlbi-include-sd-bcwwtbtin8-controlled\",\"version\":\"0.1.0\"'\n",
    "#  b',\"visible\":false,\"access\":{\"privacy\":\"PRIVATE\",\"privateType\":\"CONTROLLED\",\"a'\n",
    "#  b'uthorizationEntity\":\"RAS\",\"accessParams\":{\"consentGroup\":\"c1\",\"phsId\":\"phs00'\n",
    "#  b'3678\"}}}')"
   ]
  },
  {
   "cell_type": "code",
   "execution_count": null,
   "metadata": {},
   "outputs": [],
   "source": [
    "# attach storage to dataset\n",
    "guid_storage = {\n",
    "  \"name\": \"nih-nhlbi-include-sd-bcwwtbtin8-controlled\", # dataset name \n",
    "  \"datasetId\": \"a35972a5-25a7-4c52-9e14-09e1ca110928\",\n",
    "  \"cloudProvider\": \"AWS\",\n",
    "  \"region\": \"us-east-1\",\n",
    "  \"bucketName\": \"nih-nhlbi-include-sd-bcwwtbtin8\",\n",
    "  \"storageCredentials\": {\n",
    "    \"type\": \"aws_user\",\n",
    "    \"accessKeyId\": AWS_ACCESS_KEY_ID,\n",
    "    \"secretAccessKey\": AWS_SECRET_ACCESS_KEY\n",
    "  }\n",
    "}"
   ]
  },
  {
   "cell_type": "code",
   "execution_count": null,
   "metadata": {},
   "outputs": [],
   "source": [
    "# post storage attachement\n",
    "guid_storage_resp = Session().post(\n",
    "    \"https://cavatica-api.sbgenomics.com/v2/drs-internal/storages\",\n",
    "    headers={\n",
    "        \"X-SBG-Auth-Token\": X_SBG_Auth_Token,\n",
    "        \"X-SBG-Advance-Access\": \"advance\",\n",
    "        \"Content-Type\": \"application/json\",\n",
    "    },\n",
    "    json=guid_storage,\n",
    ")\n",
    "\n",
    "pprint.pprint(guid_storage_resp.content)\n",
    "\n",
    "# (b'{\"id\":\"16422003-a529-4207-af4b-6fab9fd82903\",\"createdBy\":\"include-data-hub\",'\n",
    "#  b'\"dateCreated\":\"2024-10-07 16:10:01+0000\",\"dateModified\":\"2024-10-07 16:10:01'\n",
    "#  b'+0000\",\"datasetId\":\"a35972a5-25a7-4c52-9e14-09e1ca110928\",\"name\":\"nih-nhlbi-'\n",
    "#  b'include-sd-bcwwtbtin8-controlled\",\"cloudProvider\":\"AWS\",\"bucketName\":\"nih-nh'\n",
    "#  b'lbi-include-sd-bcwwtbtin8\",\"region\":\"us-east-1\",\"active\":true}')"
   ]
  }
 ],
 "metadata": {
  "kernelspec": {
   "display_name": "Python 3.8.0 64-bit",
   "language": "python",
   "name": "python3"
  },
  "language_info": {
   "codemirror_mode": {
    "name": "ipython",
    "version": 3
   },
   "file_extension": ".py",
   "mimetype": "text/x-python",
   "name": "python",
   "nbconvert_exporter": "python",
   "pygments_lexer": "ipython3",
   "version": "3.8.0"
  },
  "orig_nbformat": 4,
  "vscode": {
   "interpreter": {
    "hash": "aee8b7b246df8f9039afb4144a1f6fd8d2ca17a180786b69acc140d282b71a49"
   }
  }
 },
 "nbformat": 4,
 "nbformat_minor": 2
}
