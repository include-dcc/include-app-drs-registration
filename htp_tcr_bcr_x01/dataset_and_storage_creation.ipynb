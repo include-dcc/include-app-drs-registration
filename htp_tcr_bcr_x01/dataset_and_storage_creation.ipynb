{
 "cells": [
  {
   "cell_type": "code",
   "execution_count": 4,
   "metadata": {},
   "outputs": [],
   "source": [
    "import logging\n",
    "import os\n",
    "import sys\n",
    "import argparse\n",
    "import time\n",
    "import pprint as pprint \n",
    "from dotenv import load_dotenv\n",
    "\n",
    "import pandas as pd\n",
    "# from requests import RequestException\n",
    "import requests\n",
    "\n",
    "from d3b_utils.requests_retry import Session"
   ]
  },
  {
   "cell_type": "markdown",
   "metadata": {},
   "source": [
    "### DRS REGISTRATION KEYS\n",
    "* `X_SBG_Auth_Token` = A token obtained from the CAVATICA app for developers. This toke is needed for interatcting with the CAVATICA API \n",
    "* `AWS_ACCESS_KEY_ID` = The AWS access key ID obtained from CHOP DevOps for the NHLBI buckets\n",
    "* `AWS_SECRET_ACCESS_KEY` = The AWS secret key obtained from CHOP DevOPs for the NHLBI buckets "
   ]
  },
  {
   "cell_type": "code",
   "execution_count": 5,
   "metadata": {},
   "outputs": [],
   "source": [
    "load_dotenv() \n",
    "API_VERSION = \"v2\"\n",
    "X_SBG_Auth_Token = os.getenv(\"X_SBG_Auth_Token\")\n",
    "\n",
    "AWS_ACCESS_KEY_ID = os.getenv(\"AWS_ACCESS_KEY_ID\")\n",
    "AWS_SECRET_ACCESS_KEY = os.getenv(\"AWS_SECRET_ACCESS_KEY\")\n",
    "\n",
    "BASE_URL = \"https://cavatica-api.sbgenomics.com/v2/drs-internal\""
   ]
  },
  {
   "cell_type": "markdown",
   "metadata": {},
   "source": [
    "#### HTP Registered-tier and Controlled CAVATICA Dataset creation\n",
    "* Bucket name: `nih-nhlbi-include-sd-7ydc1w4h`\n",
    "* Access level: registered and controlled"
   ]
  },
  {
   "cell_type": "markdown",
   "metadata": {},
   "source": [
    "##### Step 1: Build json for each dataset"
   ]
  },
  {
   "cell_type": "code",
   "execution_count": 7,
   "metadata": {},
   "outputs": [],
   "source": [
    "registered_dataset = { \n",
    "    \"name\": \"nih-nhlbi-include-sd-7ydc1w4h-tcr-bcr-assay-metadata-registered\",\n",
    "    \"version\": \"0.1.0\",\n",
    "    \"access\": {\n",
    "        \"privacy\": \"PRIVATE\",\n",
    "        \"privateType\": \"REGISTERED\",\n",
    "        \"authorizationEntity\": \"SBG\",\n",
    "  }\n",
    "}"
   ]
  },
  {
   "cell_type": "markdown",
   "metadata": {},
   "source": [
    "##### Step 2: Send request to create each dataset"
   ]
  },
  {
   "cell_type": "code",
   "execution_count": 8,
   "metadata": {},
   "outputs": [
    {
     "name": "stdout",
     "output_type": "stream",
     "text": [
      "(b'{\"id\":\"722d3729-2ae7-4ca7-a81e-548f58897d46\",\"createdBy\":\"include-data-hub\",'\n",
      " b'\"dateCreated\":\"2025-04-30 20:31:16+0000\",\"dateModified\":\"2025-04-30 20:31:16'\n",
      " b'+0000\",\"name\":\"nih-nhlbi-include-sd-7ydc1w4h-tcr-bcr-assay-metadata-register'\n",
      " b'ed\",\"version\":\"0.1.0\",\"visible\":false,\"access\":{\"privacy\":\"PRIVATE\",\"private'\n",
      " b'Type\":\"REGISTERED\",\"authorizationEntity\":\"SBG\"}}')\n"
     ]
    }
   ],
   "source": [
    "registered_resp = Session().post(\n",
    "    \"https://cavatica-api.sbgenomics.com/v2/drs-internal/datasets\",\n",
    "    headers={\n",
    "        \"X-SBG-Auth-Token\": X_SBG_Auth_Token,\n",
    "        \"X-SBG-Advance-Access\": \"advance\",\n",
    "        \"Content-Type\": \"application/json\",\n",
    "    },\n",
    "    json=registered_dataset,\n",
    ")\n",
    "\n",
    "pprint.pprint(registered_resp.content)\n",
    "\n",
    "# (b'{\"id\":\"722d3729-2ae7-4ca7-a81e-548f58897d46\",\"createdBy\":\"include-data-hub\",'\n",
    "#  b'\"dateCreated\":\"2025-04-30 20:31:16+0000\",\"dateModified\":\"2025-04-30 20:31:16'\n",
    "#  b'+0000\",\"name\":\"nih-nhlbi-include-sd-7ydc1w4h-tcr-bcr-assay-metadata-register'\n",
    "#  b'ed\",\"version\":\"0.1.0\",\"visible\":false,\"access\":{\"privacy\":\"PRIVATE\",\"private'\n",
    "#  b'Type\":\"REGISTERED\",\"authorizationEntity\":\"SBG\"}}')"
   ]
  },
  {
   "cell_type": "code",
   "execution_count": 16,
   "metadata": {},
   "outputs": [],
   "source": [
    "registered_storage = {\n",
    "  \"name\": \"nih-nhlbi-include-sd-7ydc1w4h-tcr-bcr-assay-metadata-registered\",\n",
    "  \"datasetId\": \"722d3729-2ae7-4ca7-a81e-548f58897d46\",\n",
    "  \"cloudProvider\": \"AWS\",\n",
    "  \"region\": \"us-east-1\",\n",
    "  \"bucketName\": \"nih-nhlbi-include-sd-7ydc1w4h\",\n",
    "  \"storageCredentials\": {\n",
    "    \"type\": \"aws_user\",\n",
    "    \"accessKeyId\": AWS_ACCESS_KEY_ID,\n",
    "    \"secretAccessKey\": AWS_SECRET_ACCESS_KEY\n",
    "  }\n",
    "}"
   ]
  },
  {
   "cell_type": "code",
   "execution_count": 17,
   "metadata": {},
   "outputs": [
    {
     "name": "stdout",
     "output_type": "stream",
     "text": [
      "(b'{\"status\":403,\"code\":90002,\"message\":\"Forbidden.\",\"more_info\":\"https://docs.'\n",
      " b'cavatica.org/reference/api-status-codes#90002\"}')\n"
     ]
    }
   ],
   "source": [
    "registered_storage_resp = Session().post(\n",
    "    \"https://cavatica-api.sbgenomics.com/v2/drs-internal/storages\",\n",
    "    headers={\n",
    "        \"X-SBG-Auth-Token\": X_SBG_Auth_Token,\n",
    "        \"X-SBG-Advance-Access\": \"advance\",\n",
    "        \"Content-Type\": \"application/json\",\n",
    "    },\n",
    "    json=registered_storage,\n",
    ")\n",
    "\n",
    "pprint.pprint(registered_storage_resp.content)\n"
   ]
  },
  {
   "cell_type": "code",
   "execution_count": 5,
   "metadata": {},
   "outputs": [
    {
     "name": "stdout",
     "output_type": "stream",
     "text": [
      "<Response [404]>\n"
     ]
    }
   ],
   "source": [
    "# The final step publishes the dataset. Send a HTTP POST request to <BASE_URL>/<DATASET_ID>/publish. \n",
    "# Once successful, this HTTP POST request will result in a response as follows:\n",
    "\n",
    "# curl --location -g --request PATCH 'https://cavatica-api.sbgenomics.com/v2/drs-internal/datasets/<insert_dataset_id>/publish' --header 'X-SBG-Auth-Token: ' --header 'X-SBG-Advance-Access: advance'"
   ]
  }
 ],
 "metadata": {
  "kernelspec": {
   "display_name": "Python 3.10.16 64-bit",
   "language": "python",
   "name": "python3"
  },
  "language_info": {
   "codemirror_mode": {
    "name": "ipython",
    "version": 3
   },
   "file_extension": ".py",
   "mimetype": "text/x-python",
   "name": "python",
   "nbconvert_exporter": "python",
   "pygments_lexer": "ipython3",
   "version": "3.10.16"
  },
  "orig_nbformat": 4,
  "vscode": {
   "interpreter": {
    "hash": "7e1998ff7f8aa20ada591c520b972326324e5ea05489af9e422744c7c09f6dad"
   }
  }
 },
 "nbformat": 4,
 "nbformat_minor": 2
}
