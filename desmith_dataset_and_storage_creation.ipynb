{
 "cells": [
  {
   "cell_type": "code",
   "execution_count": 1,
   "metadata": {},
   "outputs": [],
   "source": [
    "import logging\n",
    "import os\n",
    "import sys\n",
    "import argparse\n",
    "import time\n",
    "import pprint as pprint \n",
    "\n",
    "import pandas as pd\n",
    "# from requests import RequestException\n",
    "import requests\n",
    "\n",
    "from d3b_utils.requests_retry import Session"
   ]
  },
  {
   "cell_type": "markdown",
   "metadata": {},
   "source": [
    "### Required Tokens and Keys "
   ]
  },
  {
   "cell_type": "code",
   "execution_count": 2,
   "metadata": {},
   "outputs": [],
   "source": [
    "# tokens and keys needed\n",
    "API_VERSION = \"v2\"\n",
    "X_SBG_Auth_Token = <cavatica developer token> \n",
    "\n",
    "AWS_ACCESS_KEY_ID = <access key>\n",
    "AWS_SECRET_ACCESS_KEY = <secret access key> \n",
    "\n",
    "BASE_URL = \"https://cavatica-api.sbgenomics.com/v2/drs-internal\""
   ]
  },
  {
   "cell_type": "markdown",
   "metadata": {},
   "source": [
    "### Create Registered Access Dataset"
   ]
  },
  {
   "cell_type": "code",
   "execution_count": 7,
   "metadata": {},
   "outputs": [],
   "source": [
    "registered_dataset = { \n",
    "    \"name\": \"nih-nhlbi-include-sd-8ksdwkhk-registered\",\n",
    "    \"version\": \"0.1.0\",\n",
    "    \"access\": {\n",
    "        \"privacy\": \"PRIVATE\",\n",
    "        \"privateType\": \"REGISTERED\",\n",
    "        \"authorizationEntity\": \"SBG\",\n",
    "  }\n",
    "}"
   ]
  },
  {
   "cell_type": "code",
   "execution_count": 8,
   "metadata": {},
   "outputs": [
    {
     "name": "stdout",
     "output_type": "stream",
     "text": [
      "(b'{\"id\":\"271021c6-5f30-408c-ba5e-d6b01b078d9d\",\"createdBy\":\"include-data-hub\",'\n",
      " b'\"dateCreated\":\"2023-06-12 15:12:46+0000\",\"dateModified\":\"2023-06-12 15:12:46'\n",
      " b'+0000\",\"name\":\"nih-nhlbi-include-sd-8ksdwkhk-registered\",\"version\":\"0.1.0\",\"'\n",
      " b'visible\":false,\"access\":{\"privacy\":\"PRIVATE\",\"privateType\":\"REGISTERED\",\"aut'\n",
      " b'horizationEntity\":\"SBG\"}}')\n"
     ]
    }
   ],
   "source": [
    "registered_resp = Session().post(\n",
    "    \"https://cavatica-api.sbgenomics.com/v2/drs-internal/datasets\",\n",
    "    headers={\n",
    "        \"X-SBG-Auth-Token\": X_SBG_Auth_Token,\n",
    "        \"X-SBG-Advance-Access\": \"advance\",\n",
    "        \"Content-Type\": \"application/json\",\n",
    "    },\n",
    "    json=registered_dataset,\n",
    ")\n",
    "\n",
    "pprint.pprint(registered_resp.content)\n",
    "\n",
    "# response body: \n",
    "\n",
    "# (b'{\"id\":\"271021c6-5f30-408c-ba5e-d6b01b078d9d\",\"createdBy\":\"include-data-hub\",'\n",
    "#  b'\"dateCreated\":\"2023-06-12 15:12:46+0000\",\"dateModified\":\"2023-06-12 15:12:46'\n",
    "#  b'+0000\",\"name\":\"nih-nhlbi-include-sd-8ksdwkhk-registered\",\"version\":\"0.1.0\",\"'\n",
    "#  b'visible\":false,\"access\":{\"privacy\":\"PRIVATE\",\"privateType\":\"REGISTERED\",\"aut'\n",
    "#  b'horizationEntity\":\"SBG\"}}')\n",
    "\n",
    "# DATASET ID: 271021c6-5f30-408c-ba5e-d6b01b078d9d"
   ]
  },
  {
   "cell_type": "markdown",
   "metadata": {},
   "source": [
    "### Attach storage to registered dataset"
   ]
  },
  {
   "cell_type": "code",
   "execution_count": 9,
   "metadata": {},
   "outputs": [],
   "source": [
    "registered_storage = {\n",
    "  \"name\": \"nih-nhlbi-include-sd-8ksdwkhk-registered\",\n",
    "  \"datasetId\": \"271021c6-5f30-408c-ba5e-d6b01b078d9d\",\n",
    "  \"cloudProvider\": \"AWS\",\n",
    "  \"region\": \"us-east-1\",\n",
    "  \"bucketName\": \"nih-nhlbi-include-sd-8ksdwkhk\",\n",
    "  \"storageCredentials\": {\n",
    "    \"type\": \"aws_user\",\n",
    "    \"accessKeyId\": AWS_ACCESS_KEY_ID,\n",
    "    \"secretAccessKey\": AWS_SECRET_ACCESS_KEY\n",
    "  }\n",
    "}"
   ]
  },
  {
   "cell_type": "code",
   "execution_count": 10,
   "metadata": {},
   "outputs": [
    {
     "name": "stdout",
     "output_type": "stream",
     "text": [
      "(b'{\"id\":\"2c8ac472-9273-40de-9fb1-149dd55cc609\",\"createdBy\":\"include-data-hub\",'\n",
      " b'\"dateCreated\":\"2023-06-12 15:14:59+0000\",\"dateModified\":\"2023-06-12 15:14:59'\n",
      " b'+0000\",\"datasetId\":\"271021c6-5f30-408c-ba5e-d6b01b078d9d\",\"name\":\"nih-nhlbi-'\n",
      " b'include-sd-8ksdwkhk-registered\",\"cloudProvider\":\"AWS\",\"bucketName\":\"nih-nhlb'\n",
      " b'i-include-sd-8ksdwkhk\",\"region\":\"us-east-1\",\"active\":true}')\n"
     ]
    }
   ],
   "source": [
    "registered_storage_resp = Session().post(\n",
    "    \"https://cavatica-api.sbgenomics.com/v2/drs-internal/storages\",\n",
    "    headers={\n",
    "        \"X-SBG-Auth-Token\": X_SBG_Auth_Token,\n",
    "        \"X-SBG-Advance-Access\": \"advance\",\n",
    "        \"Content-Type\": \"application/json\",\n",
    "    },\n",
    "    json=registered_storage,\n",
    ")\n",
    "\n",
    "pprint.pprint(registered_storage_resp.content)\n",
    "\n",
    "# response body: \n",
    "\n",
    "# (b'{\"id\":\"2c8ac472-9273-40de-9fb1-149dd55cc609\",\"createdBy\":\"include-data-hub\",'\n",
    "#  b'\"dateCreated\":\"2023-06-12 15:14:59+0000\",\"dateModified\":\"2023-06-12 15:14:59'\n",
    "#  b'+0000\",\"datasetId\":\"271021c6-5f30-408c-ba5e-d6b01b078d9d\",\"name\":\"nih-nhlbi-'\n",
    "#  b'include-sd-8ksdwkhk-registered\",\"cloudProvider\":\"AWS\",\"bucketName\":\"nih-nhlb'\n",
    "#  b'i-include-sd-8ksdwkhk\",\"region\":\"us-east-1\",\"active\":true}')"
   ]
  },
  {
   "cell_type": "markdown",
   "metadata": {},
   "source": [
    "### Create Controlled Access Dataset"
   ]
  },
  {
   "cell_type": "code",
   "execution_count": 11,
   "metadata": {},
   "outputs": [],
   "source": [
    "controlled_dataset = { \n",
    "    \"name\": \"nih-nhlbi-include-sd-8ksdwkhk-controlled\",\n",
    "    \"version\": \"0.1.0\",\n",
    "    \"access\": {\n",
    "        \"privacy\": \"PRIVATE\",\n",
    "        \"privateType\": \"CONTROLLED\",\n",
    "        \"authorizationEntity\": \"RAS\",\n",
    "        \"accessParams\" : { \n",
    "            \"phsId\" : \"phs002982\", \n",
    "            \"consentGroup\" : \"c1\"\n",
    "        }\n",
    "  }\n",
    "}"
   ]
  },
  {
   "cell_type": "code",
   "execution_count": 12,
   "metadata": {},
   "outputs": [
    {
     "name": "stdout",
     "output_type": "stream",
     "text": [
      "(b'{\"id\":\"20b4e732-b536-4dbb-b64b-9a14f0bee13f\",\"createdBy\":\"include-data-hub\",'\n",
      " b'\"dateCreated\":\"2023-06-12 15:17:01+0000\",\"dateModified\":\"2023-06-12 15:17:01'\n",
      " b'+0000\",\"name\":\"nih-nhlbi-include-sd-8ksdwkhk-controlled\",\"version\":\"0.1.0\",\"'\n",
      " b'visible\":false,\"access\":{\"privacy\":\"PRIVATE\",\"privateType\":\"CONTROLLED\",\"aut'\n",
      " b'horizationEntity\":\"RAS\",\"accessParams\":{\"consentGroup\":\"c1\",\"phsId\":\"phs0029'\n",
      " b'82\"}}}')\n"
     ]
    }
   ],
   "source": [
    "controlled_resp = Session().post(\n",
    "    \"https://cavatica-api.sbgenomics.com/v2/drs-internal/datasets\",\n",
    "    headers={\n",
    "        \"X-SBG-Auth-Token\": X_SBG_Auth_Token,\n",
    "        \"X-SBG-Advance-Access\": \"advance\",\n",
    "        \"Content-Type\": \"application/json\",\n",
    "    },\n",
    "    json=controlled_dataset,\n",
    ")\n",
    "\n",
    "pprint.pprint(controlled_resp.content)\n",
    "\n",
    "# response body: \n",
    "\n",
    "# (b'{\"id\":\"20b4e732-b536-4dbb-b64b-9a14f0bee13f\",\"createdBy\":\"include-data-hub\",'\n",
    "#  b'\"dateCreated\":\"2023-06-12 15:17:01+0000\",\"dateModified\":\"2023-06-12 15:17:01'\n",
    "#  b'+0000\",\"name\":\"nih-nhlbi-include-sd-8ksdwkhk-controlled\",\"version\":\"0.1.0\",\"'\n",
    "#  b'visible\":false,\"access\":{\"privacy\":\"PRIVATE\",\"privateType\":\"CONTROLLED\",\"aut'\n",
    "#  b'horizationEntity\":\"RAS\",\"accessParams\":{\"consentGroup\":\"c1\",\"phsId\":\"phs0029'\n",
    "#  b'82\"}}}')\n",
    "\n",
    "# DATASET ID: 20b4e732-b536-4dbb-b64b-9a14f0bee13f"
   ]
  },
  {
   "cell_type": "markdown",
   "metadata": {},
   "source": [
    "### Attach storage to controlled dataset"
   ]
  },
  {
   "cell_type": "code",
   "execution_count": 13,
   "metadata": {},
   "outputs": [],
   "source": [
    "controlled_storage = {\n",
    "  \"name\": \"nih-nhlbi-include-sd-8ksdwkhk-controlled\",\n",
    "  \"datasetId\": \"20b4e732-b536-4dbb-b64b-9a14f0bee13f\",\n",
    "  \"cloudProvider\": \"AWS\",\n",
    "  \"region\": \"us-east-1\",\n",
    "  \"bucketName\": \"nih-nhlbi-include-sd-8ksdwkhk\",\n",
    "  \"storageCredentials\": {\n",
    "    \"type\": \"aws_user\",\n",
    "    \"accessKeyId\": AWS_ACCESS_KEY_ID,\n",
    "    \"secretAccessKey\": AWS_SECRET_ACCESS_KEY\n",
    "  }\n",
    "}"
   ]
  },
  {
   "cell_type": "code",
   "execution_count": 14,
   "metadata": {},
   "outputs": [
    {
     "name": "stdout",
     "output_type": "stream",
     "text": [
      "(b'{\"id\":\"e3f1e9be-c6df-4520-90ee-ebec712c0b72\",\"createdBy\":\"include-data-hub\",'\n",
      " b'\"dateCreated\":\"2023-06-12 15:18:46+0000\",\"dateModified\":\"2023-06-12 15:18:46'\n",
      " b'+0000\",\"datasetId\":\"20b4e732-b536-4dbb-b64b-9a14f0bee13f\",\"name\":\"nih-nhlbi-'\n",
      " b'include-sd-8ksdwkhk-controlled\",\"cloudProvider\":\"AWS\",\"bucketName\":\"nih-nhlb'\n",
      " b'i-include-sd-8ksdwkhk\",\"region\":\"us-east-1\",\"active\":true}')\n"
     ]
    }
   ],
   "source": [
    "controlled_storage_resp = Session().post(\n",
    "    \"https://cavatica-api.sbgenomics.com/v2/drs-internal/storages\",\n",
    "    headers={\n",
    "        \"X-SBG-Auth-Token\": X_SBG_Auth_Token,\n",
    "        \"X-SBG-Advance-Access\": \"advance\",\n",
    "        \"Content-Type\": \"application/json\",\n",
    "    },\n",
    "    json=controlled_storage,\n",
    ")\n",
    "\n",
    "pprint.pprint(controlled_storage_resp.content)\n",
    "\n",
    "# response body: \n",
    "\n",
    "# (b'{\"id\":\"e3f1e9be-c6df-4520-90ee-ebec712c0b72\",\"createdBy\":\"include-data-hub\",'\n",
    "#  b'\"dateCreated\":\"2023-06-12 15:18:46+0000\",\"dateModified\":\"2023-06-12 15:18:46'\n",
    "#  b'+0000\",\"datasetId\":\"20b4e732-b536-4dbb-b64b-9a14f0bee13f\",\"name\":\"nih-nhlbi-'\n",
    "#  b'include-sd-8ksdwkhk-controlled\",\"cloudProvider\":\"AWS\",\"bucketName\":\"nih-nhlb'\n",
    "#  b'i-include-sd-8ksdwkhk\",\"region\":\"us-east-1\",\"active\":true}')"
   ]
  },
  {
   "cell_type": "markdown",
   "metadata": {},
   "source": [
    "### Publish dataset when ready to be released"
   ]
  },
  {
   "cell_type": "code",
   "execution_count": null,
   "metadata": {},
   "outputs": [],
   "source": [
    "# published response body :\n",
    "# {\"id\":\"271021c6-5f30-408c-ba5e-d6b01b078d9d\",\"createdBy\":\"include-data-hub\",\"modifiedBy\":\"include-data-hub\",\"dateCreated\":\"2023-06-12 15:12:46+0000\",\"dateModified\":\"2023-06-12 20:18:20+0000\",\"name\":\"nih-nhlbi-include-sd-8ksdwkhk-registered\",\"version\":\"0.1.0\",\"visible\":true,\"access\":{\"privacy\":\"PRIVATE\",\"privateType\":\"REGISTERED\",\"authorizationEntity\":\"SBG\"}}%"
   ]
  }
 ],
 "metadata": {
  "kernelspec": {
   "display_name": "Python 3.8.0 64-bit",
   "language": "python",
   "name": "python3"
  },
  "language_info": {
   "codemirror_mode": {
    "name": "ipython",
    "version": 3
   },
   "file_extension": ".py",
   "mimetype": "text/x-python",
   "name": "python",
   "nbconvert_exporter": "python",
   "pygments_lexer": "ipython3",
   "version": "3.8.0"
  },
  "orig_nbformat": 4,
  "vscode": {
   "interpreter": {
    "hash": "aee8b7b246df8f9039afb4144a1f6fd8d2ca17a180786b69acc140d282b71a49"
   }
  }
 },
 "nbformat": 4,
 "nbformat_minor": 2
}
