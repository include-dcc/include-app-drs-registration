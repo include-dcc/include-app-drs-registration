{
 "cells": [
  {
   "cell_type": "code",
   "execution_count": null,
   "metadata": {},
   "outputs": [],
   "source": [
    "import logging\n",
    "import os\n",
    "import sys\n",
    "import argparse\n",
    "import time\n",
    "import pprint as pprint \n",
    "\n",
    "import pandas as pd\n",
    "# from requests import RequestException\n",
    "import requests\n",
    "\n",
    "from d3b_utils.requests_retry import Session"
   ]
  },
  {
   "cell_type": "markdown",
   "metadata": {},
   "source": [
    "### DRS REGISTRATION KEYS\n",
    "* `X_SBG_Auth_Token` = A token obtained from the CAVATICA app for developers. This toke is needed for interatcting with the CAVATICA API \n",
    "* `AWS_ACCESS_KEY_ID` = The AWS access key ID obtained from CHOP DevOps for the bucket where the files are located\n",
    "* `AWS_SECRET_ACCESS_KEY` = The AWS secret key obtained from CHOP DevOPs for the bucket where the files are located"
   ]
  },
  {
   "cell_type": "code",
   "execution_count": null,
   "metadata": {},
   "outputs": [],
   "source": [
    "### include cavatica token\n",
    "# X_SBG_Auth_Token = <cavatica token>\n",
    "\n",
    "# version\n",
    "API_VERSION = \"v2\"\n",
    "\n",
    "BASE_URL = \"https://cavatica-api.sbgenomics.com/v2/drs-internal\""
   ]
  },
  {
   "cell_type": "code",
   "execution_count": null,
   "metadata": {},
   "outputs": [],
   "source": [
    "# create dsc json\n",
    "dsc_dataset = { \n",
    "    \"name\": \"nih-nhlbi-include-sd-ickkyna4w9-registered\",\n",
    "    \"version\": \"0.1.0\",\n",
    "    \"access\": {\n",
    "        \"privacy\": \"PRIVATE\",\n",
    "        \"privateType\": \"REGISTERED\",\n",
    "        \"authorizationEntity\": \"SBG\",\n",
    "  }\n",
    "}"
   ]
  },
  {
   "cell_type": "code",
   "execution_count": null,
   "metadata": {},
   "outputs": [],
   "source": [
    "# post dataset\n",
    "dsc_dataset_resp = Session().post(\n",
    "    \"https://cavatica-api.sbgenomics.com/v2/drs-internal/datasets\",\n",
    "    headers={\n",
    "        \"X-SBG-Auth-Token\": X_SBG_Auth_Token,\n",
    "        \"X-SBG-Advance-Access\": \"advance\",\n",
    "        \"Content-Type\": \"application/json\",\n",
    "    },\n",
    "    json=dsc_dataset,\n",
    ")\n",
    "\n",
    "pprint.pprint(dsc_dataset_resp.content) \n",
    "\n",
    "# (b'{\"id\":\"b583c74e-87f4-4e1e-84dd-e2119c1a211a\",\"createdBy\":\"include-data-hub\",'\n",
    "#  b'\"dateCreated\":\"2024-10-04 18:58:09+0000\",\"dateModified\":\"2024-10-04 18:58:09'\n",
    "#  b'+0000\",\"name\":\"nih-nhlbi-include-sd-ickkyna4w9-registered\",\"version\":\"0.1.0\"'\n",
    "#  b',\"visible\":false,\"access\":{\"privacy\":\"PRIVATE\",\"privateType\":\"REGISTERED\",\"a'\n",
    "#  b'uthorizationEntity\":\"SBG\"}}')"
   ]
  },
  {
   "cell_type": "code",
   "execution_count": null,
   "metadata": {},
   "outputs": [],
   "source": [
    "# dsc storage\n",
    "dsc_storage = {\n",
    "  \"name\": \"nih-nhlbi-include-sd-ickkyna4w9-registered\", # dataset name\n",
    "  \"datasetId\": \"b583c74e-87f4-4e1e-84dd-e2119c1a211a\",\n",
    "  \"cloudProvider\": \"AWS\",\n",
    "  \"region\": \"us-east-1\",\n",
    "  \"bucketName\": \"nih-nhlbi-include-sd-ickkyna4w9\",\n",
    "  \"storageCredentials\": {\n",
    "    \"type\": \"aws_user\",\n",
    "    \"accessKeyId\": AWS_ACCESS_KEY_ID,\n",
    "    \"secretAccessKey\": AWS_SECRET_ACCESS_KEY\n",
    "  }\n",
    "}"
   ]
  },
  {
   "cell_type": "code",
   "execution_count": null,
   "metadata": {},
   "outputs": [],
   "source": [
    "# attach storage\n",
    "dsc_storage_resp = Session().post(\n",
    "    \"https://cavatica-api.sbgenomics.com/v2/drs-internal/storages\",\n",
    "    headers={\n",
    "        \"X-SBG-Auth-Token\": X_SBG_Auth_Token,\n",
    "        \"X-SBG-Advance-Access\": \"advance\",\n",
    "        \"Content-Type\": \"application/json\",\n",
    "    },\n",
    "    json=dsc_storage,\n",
    ")\n",
    "\n",
    "pprint.pprint(dsc_storage_resp.content)\n",
    "\n",
    "# (b'{\"id\":\"92872647-ec41-4d8a-be2a-df668e511eea\",\"createdBy\":\"include-data-hub\",'\n",
    "#  b'\"dateCreated\":\"2024-10-07 16:10:35+0000\",\"dateModified\":\"2024-10-07 16:10:35'\n",
    "#  b'+0000\",\"datasetId\":\"b583c74e-87f4-4e1e-84dd-e2119c1a211a\",\"name\":\"nih-nhlbi-'\n",
    "#  b'include-sd-ickkyna4w9-registered\",\"cloudProvider\":\"AWS\",\"bucketName\":\"nih-nh'\n",
    "#  b'lbi-include-sd-ickkyna4w9\",\"region\":\"us-east-1\",\"active\":true}')"
   ]
  }
 ],
 "metadata": {
  "kernelspec": {
   "display_name": "Python 3.8.0 64-bit",
   "language": "python",
   "name": "python3"
  },
  "language_info": {
   "name": "python",
   "version": "3.8.0"
  },
  "orig_nbformat": 4,
  "vscode": {
   "interpreter": {
    "hash": "aee8b7b246df8f9039afb4144a1f6fd8d2ca17a180786b69acc140d282b71a49"
   }
  }
 },
 "nbformat": 4,
 "nbformat_minor": 2
}
